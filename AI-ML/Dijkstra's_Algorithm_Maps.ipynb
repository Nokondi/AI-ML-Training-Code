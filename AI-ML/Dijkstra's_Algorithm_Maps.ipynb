{
  "nbformat": 4,
  "nbformat_minor": 0,
  "metadata": {
    "colab": {
      "provenance": [],
      "authorship_tag": "ABX9TyNSz9C2axbW222CM77B+Ct8",
      "include_colab_link": true
    },
    "kernelspec": {
      "name": "python3",
      "display_name": "Python 3"
    },
    "language_info": {
      "name": "python"
    }
  },
  "cells": [
    {
      "cell_type": "markdown",
      "metadata": {
        "id": "view-in-github",
        "colab_type": "text"
      },
      "source": [
        "<a href=\"https://colab.research.google.com/github/Nokondi/AI-ML-Training-Code/blob/main/AI-ML/Dijkstra's_Algorithm_Maps.ipynb\" target=\"_parent\"><img src=\"https://colab.research.google.com/assets/colab-badge.svg\" alt=\"Open In Colab\"/></a>"
      ]
    },
    {
      "cell_type": "code",
      "execution_count": 1,
      "metadata": {
        "id": "pbCVBojwyt1n"
      },
      "outputs": [],
      "source": [
        "import plotly.graph_objects as go\n",
        "import pandas as pd\n",
        "from geopy import distance"
      ]
    },
    {
      "cell_type": "markdown",
      "source": [
        "State capitols originally from: https://github.com/jasperdebie/VisInfo/blob/master/us-state-capitals.csv"
      ],
      "metadata": {
        "id": "wziILwfvzLtE"
      }
    },
    {
      "cell_type": "code",
      "source": [
        "url = \"https://drive.google.com/uc?export=download&id=1zg4A9kv-FtaHnX7aSxeoAkIUcUHrSTvh\"\n",
        "capitols = pd.read_csv(url)\n",
        "capitols.head()"
      ],
      "metadata": {
        "colab": {
          "base_uri": "https://localhost:8080/",
          "height": 206
        },
        "id": "dMS0X1uBy49p",
        "outputId": "0eb76aa3-f992-456d-deb0-955079768891"
      },
      "execution_count": 2,
      "outputs": [
        {
          "output_type": "execute_result",
          "data": {
            "text/plain": [
              "  state      capitol   latitude   longitude\n",
              "0    AL   Montgomery  32.377716  -86.300568\n",
              "1    AK       Juneau  58.301598 -134.420212\n",
              "2    AZ      Phoenix  33.448143 -112.096962\n",
              "3    AR  Little Rock  34.746613  -92.288986\n",
              "4    CA   Sacramento  38.576668 -121.493629"
            ],
            "text/html": [
              "\n",
              "  <div id=\"df-fe55528f-7757-4b1e-a8c2-cd7a09027546\">\n",
              "    <div class=\"colab-df-container\">\n",
              "      <div>\n",
              "<style scoped>\n",
              "    .dataframe tbody tr th:only-of-type {\n",
              "        vertical-align: middle;\n",
              "    }\n",
              "\n",
              "    .dataframe tbody tr th {\n",
              "        vertical-align: top;\n",
              "    }\n",
              "\n",
              "    .dataframe thead th {\n",
              "        text-align: right;\n",
              "    }\n",
              "</style>\n",
              "<table border=\"1\" class=\"dataframe\">\n",
              "  <thead>\n",
              "    <tr style=\"text-align: right;\">\n",
              "      <th></th>\n",
              "      <th>state</th>\n",
              "      <th>capitol</th>\n",
              "      <th>latitude</th>\n",
              "      <th>longitude</th>\n",
              "    </tr>\n",
              "  </thead>\n",
              "  <tbody>\n",
              "    <tr>\n",
              "      <th>0</th>\n",
              "      <td>AL</td>\n",
              "      <td>Montgomery</td>\n",
              "      <td>32.377716</td>\n",
              "      <td>-86.300568</td>\n",
              "    </tr>\n",
              "    <tr>\n",
              "      <th>1</th>\n",
              "      <td>AK</td>\n",
              "      <td>Juneau</td>\n",
              "      <td>58.301598</td>\n",
              "      <td>-134.420212</td>\n",
              "    </tr>\n",
              "    <tr>\n",
              "      <th>2</th>\n",
              "      <td>AZ</td>\n",
              "      <td>Phoenix</td>\n",
              "      <td>33.448143</td>\n",
              "      <td>-112.096962</td>\n",
              "    </tr>\n",
              "    <tr>\n",
              "      <th>3</th>\n",
              "      <td>AR</td>\n",
              "      <td>Little Rock</td>\n",
              "      <td>34.746613</td>\n",
              "      <td>-92.288986</td>\n",
              "    </tr>\n",
              "    <tr>\n",
              "      <th>4</th>\n",
              "      <td>CA</td>\n",
              "      <td>Sacramento</td>\n",
              "      <td>38.576668</td>\n",
              "      <td>-121.493629</td>\n",
              "    </tr>\n",
              "  </tbody>\n",
              "</table>\n",
              "</div>\n",
              "      <button class=\"colab-df-convert\" onclick=\"convertToInteractive('df-fe55528f-7757-4b1e-a8c2-cd7a09027546')\"\n",
              "              title=\"Convert this dataframe to an interactive table.\"\n",
              "              style=\"display:none;\">\n",
              "        \n",
              "  <svg xmlns=\"http://www.w3.org/2000/svg\" height=\"24px\"viewBox=\"0 0 24 24\"\n",
              "       width=\"24px\">\n",
              "    <path d=\"M0 0h24v24H0V0z\" fill=\"none\"/>\n",
              "    <path d=\"M18.56 5.44l.94 2.06.94-2.06 2.06-.94-2.06-.94-.94-2.06-.94 2.06-2.06.94zm-11 1L8.5 8.5l.94-2.06 2.06-.94-2.06-.94L8.5 2.5l-.94 2.06-2.06.94zm10 10l.94 2.06.94-2.06 2.06-.94-2.06-.94-.94-2.06-.94 2.06-2.06.94z\"/><path d=\"M17.41 7.96l-1.37-1.37c-.4-.4-.92-.59-1.43-.59-.52 0-1.04.2-1.43.59L10.3 9.45l-7.72 7.72c-.78.78-.78 2.05 0 2.83L4 21.41c.39.39.9.59 1.41.59.51 0 1.02-.2 1.41-.59l7.78-7.78 2.81-2.81c.8-.78.8-2.07 0-2.86zM5.41 20L4 18.59l7.72-7.72 1.47 1.35L5.41 20z\"/>\n",
              "  </svg>\n",
              "      </button>\n",
              "      \n",
              "  <style>\n",
              "    .colab-df-container {\n",
              "      display:flex;\n",
              "      flex-wrap:wrap;\n",
              "      gap: 12px;\n",
              "    }\n",
              "\n",
              "    .colab-df-convert {\n",
              "      background-color: #E8F0FE;\n",
              "      border: none;\n",
              "      border-radius: 50%;\n",
              "      cursor: pointer;\n",
              "      display: none;\n",
              "      fill: #1967D2;\n",
              "      height: 32px;\n",
              "      padding: 0 0 0 0;\n",
              "      width: 32px;\n",
              "    }\n",
              "\n",
              "    .colab-df-convert:hover {\n",
              "      background-color: #E2EBFA;\n",
              "      box-shadow: 0px 1px 2px rgba(60, 64, 67, 0.3), 0px 1px 3px 1px rgba(60, 64, 67, 0.15);\n",
              "      fill: #174EA6;\n",
              "    }\n",
              "\n",
              "    [theme=dark] .colab-df-convert {\n",
              "      background-color: #3B4455;\n",
              "      fill: #D2E3FC;\n",
              "    }\n",
              "\n",
              "    [theme=dark] .colab-df-convert:hover {\n",
              "      background-color: #434B5C;\n",
              "      box-shadow: 0px 1px 3px 1px rgba(0, 0, 0, 0.15);\n",
              "      filter: drop-shadow(0px 1px 2px rgba(0, 0, 0, 0.3));\n",
              "      fill: #FFFFFF;\n",
              "    }\n",
              "  </style>\n",
              "\n",
              "      <script>\n",
              "        const buttonEl =\n",
              "          document.querySelector('#df-fe55528f-7757-4b1e-a8c2-cd7a09027546 button.colab-df-convert');\n",
              "        buttonEl.style.display =\n",
              "          google.colab.kernel.accessAllowed ? 'block' : 'none';\n",
              "\n",
              "        async function convertToInteractive(key) {\n",
              "          const element = document.querySelector('#df-fe55528f-7757-4b1e-a8c2-cd7a09027546');\n",
              "          const dataTable =\n",
              "            await google.colab.kernel.invokeFunction('convertToInteractive',\n",
              "                                                     [key], {});\n",
              "          if (!dataTable) return;\n",
              "\n",
              "          const docLinkHtml = 'Like what you see? Visit the ' +\n",
              "            '<a target=\"_blank\" href=https://colab.research.google.com/notebooks/data_table.ipynb>data table notebook</a>'\n",
              "            + ' to learn more about interactive tables.';\n",
              "          element.innerHTML = '';\n",
              "          dataTable['output_type'] = 'display_data';\n",
              "          await google.colab.output.renderOutput(dataTable, element);\n",
              "          const docLink = document.createElement('div');\n",
              "          docLink.innerHTML = docLinkHtml;\n",
              "          element.appendChild(docLink);\n",
              "        }\n",
              "      </script>\n",
              "    </div>\n",
              "  </div>\n",
              "  "
            ]
          },
          "metadata": {},
          "execution_count": 2
        }
      ]
    },
    {
      "cell_type": "markdown",
      "source": [
        "Neighboring States originally from: https://github.com/ubikuity/List-of-neighboring-states-for-each-US-state/blob/master/neighbors-states.csv"
      ],
      "metadata": {
        "id": "URGRdVHgzO7G"
      }
    },
    {
      "cell_type": "code",
      "source": [
        "url2 = \"https://drive.google.com/uc?export=download&id=1izqLvH3vREJn-0k0slarIDQpJFcPngSR\"\n",
        "neighbor_states = pd.read_csv(url2)\n",
        "neighbor_states.head()"
      ],
      "metadata": {
        "colab": {
          "base_uri": "https://localhost:8080/",
          "height": 206
        },
        "id": "sRj37kU8y7SJ",
        "outputId": "9c7d15d1-0da6-42cd-a2ac-ae98ecfbacb6"
      },
      "execution_count": 3,
      "outputs": [
        {
          "output_type": "execute_result",
          "data": {
            "text/plain": [
              "  StateCode NeighborStateCode\n",
              "0        AK                WA\n",
              "1        AL                FL\n",
              "2        AL                GA\n",
              "3        AL                MS\n",
              "4        AL                TN"
            ],
            "text/html": [
              "\n",
              "  <div id=\"df-ca7aecfa-e2cd-4340-bab9-8bad8d9ad620\">\n",
              "    <div class=\"colab-df-container\">\n",
              "      <div>\n",
              "<style scoped>\n",
              "    .dataframe tbody tr th:only-of-type {\n",
              "        vertical-align: middle;\n",
              "    }\n",
              "\n",
              "    .dataframe tbody tr th {\n",
              "        vertical-align: top;\n",
              "    }\n",
              "\n",
              "    .dataframe thead th {\n",
              "        text-align: right;\n",
              "    }\n",
              "</style>\n",
              "<table border=\"1\" class=\"dataframe\">\n",
              "  <thead>\n",
              "    <tr style=\"text-align: right;\">\n",
              "      <th></th>\n",
              "      <th>StateCode</th>\n",
              "      <th>NeighborStateCode</th>\n",
              "    </tr>\n",
              "  </thead>\n",
              "  <tbody>\n",
              "    <tr>\n",
              "      <th>0</th>\n",
              "      <td>AK</td>\n",
              "      <td>WA</td>\n",
              "    </tr>\n",
              "    <tr>\n",
              "      <th>1</th>\n",
              "      <td>AL</td>\n",
              "      <td>FL</td>\n",
              "    </tr>\n",
              "    <tr>\n",
              "      <th>2</th>\n",
              "      <td>AL</td>\n",
              "      <td>GA</td>\n",
              "    </tr>\n",
              "    <tr>\n",
              "      <th>3</th>\n",
              "      <td>AL</td>\n",
              "      <td>MS</td>\n",
              "    </tr>\n",
              "    <tr>\n",
              "      <th>4</th>\n",
              "      <td>AL</td>\n",
              "      <td>TN</td>\n",
              "    </tr>\n",
              "  </tbody>\n",
              "</table>\n",
              "</div>\n",
              "      <button class=\"colab-df-convert\" onclick=\"convertToInteractive('df-ca7aecfa-e2cd-4340-bab9-8bad8d9ad620')\"\n",
              "              title=\"Convert this dataframe to an interactive table.\"\n",
              "              style=\"display:none;\">\n",
              "        \n",
              "  <svg xmlns=\"http://www.w3.org/2000/svg\" height=\"24px\"viewBox=\"0 0 24 24\"\n",
              "       width=\"24px\">\n",
              "    <path d=\"M0 0h24v24H0V0z\" fill=\"none\"/>\n",
              "    <path d=\"M18.56 5.44l.94 2.06.94-2.06 2.06-.94-2.06-.94-.94-2.06-.94 2.06-2.06.94zm-11 1L8.5 8.5l.94-2.06 2.06-.94-2.06-.94L8.5 2.5l-.94 2.06-2.06.94zm10 10l.94 2.06.94-2.06 2.06-.94-2.06-.94-.94-2.06-.94 2.06-2.06.94z\"/><path d=\"M17.41 7.96l-1.37-1.37c-.4-.4-.92-.59-1.43-.59-.52 0-1.04.2-1.43.59L10.3 9.45l-7.72 7.72c-.78.78-.78 2.05 0 2.83L4 21.41c.39.39.9.59 1.41.59.51 0 1.02-.2 1.41-.59l7.78-7.78 2.81-2.81c.8-.78.8-2.07 0-2.86zM5.41 20L4 18.59l7.72-7.72 1.47 1.35L5.41 20z\"/>\n",
              "  </svg>\n",
              "      </button>\n",
              "      \n",
              "  <style>\n",
              "    .colab-df-container {\n",
              "      display:flex;\n",
              "      flex-wrap:wrap;\n",
              "      gap: 12px;\n",
              "    }\n",
              "\n",
              "    .colab-df-convert {\n",
              "      background-color: #E8F0FE;\n",
              "      border: none;\n",
              "      border-radius: 50%;\n",
              "      cursor: pointer;\n",
              "      display: none;\n",
              "      fill: #1967D2;\n",
              "      height: 32px;\n",
              "      padding: 0 0 0 0;\n",
              "      width: 32px;\n",
              "    }\n",
              "\n",
              "    .colab-df-convert:hover {\n",
              "      background-color: #E2EBFA;\n",
              "      box-shadow: 0px 1px 2px rgba(60, 64, 67, 0.3), 0px 1px 3px 1px rgba(60, 64, 67, 0.15);\n",
              "      fill: #174EA6;\n",
              "    }\n",
              "\n",
              "    [theme=dark] .colab-df-convert {\n",
              "      background-color: #3B4455;\n",
              "      fill: #D2E3FC;\n",
              "    }\n",
              "\n",
              "    [theme=dark] .colab-df-convert:hover {\n",
              "      background-color: #434B5C;\n",
              "      box-shadow: 0px 1px 3px 1px rgba(0, 0, 0, 0.15);\n",
              "      filter: drop-shadow(0px 1px 2px rgba(0, 0, 0, 0.3));\n",
              "      fill: #FFFFFF;\n",
              "    }\n",
              "  </style>\n",
              "\n",
              "      <script>\n",
              "        const buttonEl =\n",
              "          document.querySelector('#df-ca7aecfa-e2cd-4340-bab9-8bad8d9ad620 button.colab-df-convert');\n",
              "        buttonEl.style.display =\n",
              "          google.colab.kernel.accessAllowed ? 'block' : 'none';\n",
              "\n",
              "        async function convertToInteractive(key) {\n",
              "          const element = document.querySelector('#df-ca7aecfa-e2cd-4340-bab9-8bad8d9ad620');\n",
              "          const dataTable =\n",
              "            await google.colab.kernel.invokeFunction('convertToInteractive',\n",
              "                                                     [key], {});\n",
              "          if (!dataTable) return;\n",
              "\n",
              "          const docLinkHtml = 'Like what you see? Visit the ' +\n",
              "            '<a target=\"_blank\" href=https://colab.research.google.com/notebooks/data_table.ipynb>data table notebook</a>'\n",
              "            + ' to learn more about interactive tables.';\n",
              "          element.innerHTML = '';\n",
              "          dataTable['output_type'] = 'display_data';\n",
              "          await google.colab.output.renderOutput(dataTable, element);\n",
              "          const docLink = document.createElement('div');\n",
              "          docLink.innerHTML = docLinkHtml;\n",
              "          element.appendChild(docLink);\n",
              "        }\n",
              "      </script>\n",
              "    </div>\n",
              "  </div>\n",
              "  "
            ]
          },
          "metadata": {},
          "execution_count": 3
        }
      ]
    },
    {
      "cell_type": "code",
      "source": [
        "neighbors = {}\n",
        "for index, row in capitols.iterrows():\n",
        "    latlon = (float(row['latitude']), float(row['longitude']))\n",
        "    n = {}\n",
        "    ns = list(neighbor_states.loc[neighbor_states[\"StateCode\"] == row['state']][\"NeighborStateCode\"])\n",
        "    ns += list(neighbor_states.loc[neighbor_states[\"NeighborStateCode\"] == row['state']][\"StateCode\"])\n",
        "    for x in ns:\n",
        "        dat = capitols.loc[capitols['state'] == x]\n",
        "        if not dat.empty:\n",
        "            cap = dat['capitol'].values[0]\n",
        "            latlon2 = (float(dat['latitude'].values[0]), float(dat['longitude'].values[0]))\n",
        "            dist = distance.distance(latlon, latlon2).miles\n",
        "            n[cap] = dist\n",
        "    neighbors[row['capitol']] = n\n",
        "\n",
        "print(neighbors)"
      ],
      "metadata": {
        "colab": {
          "base_uri": "https://localhost:8080/"
        },
        "id": "OIvSAXC2y9ks",
        "outputId": "0df5e420-91ff-4d4b-aff0-ad0fc8e82a17"
      },
      "execution_count": 4,
      "outputs": [
        {
          "output_type": "stream",
          "name": "stdout",
          "text": [
            "{'Montgomery': {'Tallahassee': 179.1376629135767, 'Atlanta': 145.74952594935303, 'Jackson': 227.10333904994764, 'Nashville': 262.56390741077314}, 'Juneau': {'Olympia': 914.3040227770455}, 'Phoenix': {'Sacramento': 633.5602777014598, 'Denver': 586.5729645109296, 'Santa Fe': 383.28814023065894, 'Carson City': 581.3841258250087, 'Salt Lake City': 505.5610048631618}, 'Little Rock': {'Baton Rouge': 302.48240775175975, 'Jefferson City': 264.3526100526838, 'Jackson': 207.6701458474815, 'Oklahoma City': 299.74864976363125, 'Nashville': 325.49972458438117, 'Austin': 442.86607500812994}, 'Sacramento': {'Honolulu': 2461.7061854861327, 'Carson City': 101.58029572843422, 'Salem': 446.1578559059242, 'Phoenix': 633.5602777014598}, 'Denver': {'Topeka': 500.22252431625407, 'Lincoln': 443.8533730636241, 'Santa Fe': 284.64058020602994, 'Oklahoma City': 503.92816781608866, 'Salt Lake City': 371.77690185651744, 'Cheyenne': 97.0585129597313, 'Phoenix': 586.5729645109296}, 'Hartford': {'Boston': 92.79158546603814, 'Albany': 82.51993371918351, 'Providence': 65.6069775429024}, 'Dover': {'Annapolis': 53.65986026931778, 'Trenton': 83.53599428474664, 'Harrisburg': 105.42425720965414}, 'Honolulu': {'Sacramento': 2461.7061854861327}, 'Tallahassee': {'Atlanta': 228.21762728968727, 'Montgomery': 179.1376629135767}, 'Atlanta': {'Raleigh': 355.6812484772558, 'Columbia': 193.64530179534287, 'Nashville': 215.03258829333117, 'Montgomery': 145.74952594935303, 'Tallahassee': 228.21762728968727}, 'Boise': {'Helena': 289.4397123804819, 'Carson City': 358.8332696611814, 'Salem': 350.76530727207336, 'Salt Lake City': 295.54486453207636, 'Olympia': 402.7648882816223, 'Cheyenne': 606.3568427569321}, 'Springfield': {'Indianapolis': 185.8903234694744, 'Frankfort': 280.2391727560666, 'Jefferson City': 159.19224092423863, 'Madison': 226.53773147888896, 'Des Moines': 241.44000939202436}, 'Indianapolis': {'Frankfort': 129.27007450941585, 'Lansing': 221.06071785793986, 'Columbus': 168.70918609762737, 'Springfield': 185.8903234694744}, 'Des Moines': {'Springfield': 241.44000939202436, 'St. Paul': 233.60058358525484, 'Jefferson City': 221.19647263589283, 'Lincoln': 170.15784187613482, 'Pierre': 391.61971135195313, 'Madison': 239.0745888350221}, 'Topeka': {'Jefferson City': 191.89254084045345, 'Lincoln': 132.99285790781624, 'Oklahoma City': 265.04236557065127, 'Denver': 500.22252431625407}, 'Frankfort': {'Jefferson City': 397.0141563432315, 'Columbus': 158.62669567213203, 'Nashville': 174.68176469645928, 'Richmond': 409.2324899892605, 'Charleston': 177.74174432612944, 'Springfield': 280.2391727560666, 'Indianapolis': 129.27007450941585}, 'Baton Rouge': {'Jackson': 140.4226110411889, 'Austin': 391.5721621062916, 'Little Rock': 302.48240775175975}, 'Augusta': {'Concord': 116.15946429899871}, 'Annapolis': {'Harrisburg': 91.13380357050407, 'Richmond': 111.7651064958403, 'Charleston': 280.4774439237174, 'Dover': 53.65986026931778}, 'Boston': {'Concord': 63.35485297590849, 'Albany': 139.08492613039905, 'Providence': 40.62355572983486, 'Montpelier': 152.07352704035276, 'Hartford': 92.79158546603814}, 'Lansing': {'Columbus': 207.7185426019144, 'Madison': 246.15127688361272, 'Indianapolis': 221.06071785793986}, 'St. Paul': {'Bismarck': 392.0341831494538, 'Pierre': 359.18102467227726, 'Madison': 226.16627566163572, 'Des Moines': 233.60058358525484}, 'Jackson': {'Nashville': 329.6322418992109, 'Montgomery': 227.10333904994764, 'Little Rock': 207.6701458474815, 'Baton Rouge': 140.4226110411889}, 'Jefferson City': {'Lincoln': 286.0392427088681, 'Oklahoma City': 363.4203425593869, 'Nashville': 340.0043498067957, 'Little Rock': 264.3526100526838, 'Des Moines': 221.19647263589283, 'Springfield': 159.19224092423863, 'Topeka': 191.89254084045345, 'Frankfort': 397.0141563432315}, 'Helena': {'Bismarck': 533.683686266815, 'Pierre': 586.8024705742034, 'Cheyenne': 519.7893262335191, 'Boise': 289.4397123804819}, 'Lincoln': {'Pierre': 308.05679405729785, 'Cheyenne': 425.16651087948384, 'Denver': 443.8533730636241, 'Des Moines': 170.15784187613482, 'Topeka': 132.99285790781624, 'Jefferson City': 286.0392427088681}, 'Carson City': {'Salem': 432.37898724307246, 'Salt Lake City': 432.58038115405583, 'Phoenix': 581.3841258250087, 'Sacramento': 101.58029572843422, 'Boise': 358.8332696611814}, 'Concord': {'Montpelier': 89.63170181573571, 'Boston': 63.35485297590849, 'Augusta': 116.15946429899871}, 'Trenton': {'Albany': 175.8837714467722, 'Harrisburg': 111.79527692767034, 'Dover': 83.53599428474664}, 'Santa Fe': {'Oklahoma City': 475.13486542565806, 'Austin': 604.3037968866602, 'Salt Lake City': 477.5035387677489, 'Phoenix': 383.28814023065894, 'Denver': 284.64058020602994}, 'Raleigh': {'Columbia': 183.15165722524557, 'Nashville': 457.1251979525672, 'Richmond': 138.51252405848584, 'Atlanta': 355.6812484772558}, 'Bismarck': {'Pierre': 170.78194789961165, 'St. Paul': 392.0341831494538, 'Helena': 533.683686266815}, 'Albany': {'Harrisburg': 231.2702437493784, 'Montpelier': 125.90493419274476, 'Hartford': 82.51993371918351, 'Boston': 139.08492613039905, 'Trenton': 175.8837714467722}, 'Columbus': {'Harrisburg': 324.5689155579582, 'Charleston': 134.59118054011336, 'Indianapolis': 168.70918609762737, 'Frankfort': 158.62669567213203, 'Lansing': 207.7185426019144}, 'Oklahoma City': {'Austin': 359.81317949559553, 'Little Rock': 299.74864976363125, 'Denver': 503.92816781608866, 'Topeka': 265.04236557065127, 'Jefferson City': 363.4203425593869, 'Santa Fe': 475.13486542565806}, 'Salem': {'Olympia': 144.98098285740946, 'Sacramento': 446.1578559059242, 'Boise': 350.76530727207336, 'Carson City': 432.37898724307246}, 'Harrisburg': {'Charleston': 286.17961228177876, 'Dover': 105.42425720965414, 'Annapolis': 91.13380357050407, 'Trenton': 111.79527692767034, 'Albany': 231.2702437493784, 'Columbus': 324.5689155579582}, 'Providence': {'Hartford': 65.6069775429024, 'Boston': 40.62355572983486}, 'Columbia': {'Atlanta': 193.64530179534287, 'Raleigh': 183.15165722524557}, 'Pierre': {'Cheyenne': 318.3426910948812, 'Des Moines': 391.61971135195313, 'St. Paul': 359.18102467227726, 'Helena': 586.8024705742034, 'Bismarck': 170.78194789961165, 'Lincoln': 308.05679405729785}, 'Nashville': {'Richmond': 526.515873687642, 'Montgomery': 262.56390741077314, 'Little Rock': 325.49972458438117, 'Atlanta': 215.03258829333117, 'Frankfort': 174.68176469645928, 'Jefferson City': 340.0043498067957, 'Jackson': 329.6322418992109, 'Raleigh': 457.1251979525672}, 'Austin': {'Little Rock': 442.86607500812994, 'Baton Rouge': 391.5721621062916, 'Santa Fe': 604.3037968866602, 'Oklahoma City': 359.81317949559553}, 'Salt Lake City': {'Cheyenne': 370.48282445243314, 'Phoenix': 505.5610048631618, 'Denver': 371.77690185651744, 'Boise': 295.54486453207636, 'Santa Fe': 477.5035387677489, 'Carson City': 432.58038115405583}, 'Montpelier': {'Boston': 152.07352704035276, 'Concord': 89.63170181573571, 'Albany': 125.90493419274476}, 'Richmond': {'Charleston': 234.75989613745713, 'Frankfort': 409.2324899892605, 'Annapolis': 111.7651064958403, 'Raleigh': 138.51252405848584, 'Nashville': 526.515873687642}, 'Olympia': {'Juneau': 914.3040227770455, 'Boise': 402.7648882816223, 'Salem': 144.98098285740946}, 'Charleston': {'Frankfort': 177.74174432612944, 'Annapolis': 280.4774439237174, 'Columbus': 134.59118054011336, 'Harrisburg': 286.17961228177876, 'Richmond': 234.75989613745713}, 'Madison': {'Des Moines': 239.0745888350221, 'Springfield': 226.53773147888896, 'Lansing': 246.15127688361272, 'St. Paul': 226.16627566163572}, 'Cheyenne': {'Denver': 97.0585129597313, 'Boise': 606.3568427569321, 'Helena': 519.7893262335191, 'Lincoln': 425.16651087948384, 'Pierre': 318.3426910948812, 'Salt Lake City': 370.48282445243314}}\n"
          ]
        }
      ]
    },
    {
      "cell_type": "code",
      "source": [
        "def Dijkstra(graph, start, goal):\n",
        "    # Steps 1 and 2: Initialize our 3 lists and add the starting node to seen and parents\n",
        "    visited = {}\n",
        "    seen = {start: 0}\n",
        "    parents = {start: None}\n",
        "\n",
        "    while seen:\n",
        "        # Step 3: retrieve the shortest distance node, add it to visited and remove it from seen\n",
        "        currentDistance = sorted(seen.values())[0]\n",
        "        current = [node for node in seen.keys() if seen[node] == currentDistance][0]\n",
        "        visited[current] = currentDistance\n",
        "        seen.pop(current)\n",
        "\n",
        "        # Step 4: if we have reached the goal, end the loop\n",
        "        if current == goal:\n",
        "            break\n",
        "\n",
        "        # Step 5: expand all nodes adjacent to the current node\n",
        "        for neighbor, distance in graph[current].items():\n",
        "            if neighbor in seen.keys(): \n",
        "                newDistance = currentDistance + distance\n",
        "                if newDistance < seen[neighbor]:\n",
        "                    seen[neighbor] = newDistance\n",
        "                    parents[neighbor] = current\n",
        "            elif neighbor not in visited.keys():\n",
        "                seen[neighbor] = currentDistance + distance\n",
        "                parents[neighbor] = current\n",
        "        #Step 6: if seen is empty, exit loop; else, continue\n",
        "\n",
        "    # Step 7: backtrack through parents to find the path, then reverse it\n",
        "    path = [goal]\n",
        "    node = goal\n",
        "    while node != start:\n",
        "        path.append(parents[node])\n",
        "        node = parents[node]\n",
        "    path.reverse()\n",
        "\n",
        "    # Return the path and total distance\n",
        "    return path, visited[goal]"
      ],
      "metadata": {
        "id": "ZrcYz426zbHw"
      },
      "execution_count": 6,
      "outputs": []
    },
    {
      "cell_type": "code",
      "source": [
        "origin = 'Sacramento'\n",
        "destination = 'Augusta'\n",
        "path, distance = Dijkstra(neighbors, origin, destination)"
      ],
      "metadata": {
        "id": "he_iWCORzBxA"
      },
      "execution_count": 7,
      "outputs": []
    },
    {
      "cell_type": "code",
      "source": [
        "lats = []\n",
        "lons = []\n",
        "for city in path:\n",
        "    lat = float(capitols.loc[capitols['capitol'] == city]['latitude'])\n",
        "    lon = float(capitols.loc[capitols['capitol'] == city]['longitude'])\n",
        "    lats.append(lat)\n",
        "    lons.append(lon)"
      ],
      "metadata": {
        "id": "OOe3NnwszCaL"
      },
      "execution_count": 8,
      "outputs": []
    },
    {
      "cell_type": "code",
      "source": [
        "fig = go.Figure(go.Scattermapbox(\n",
        "    mode = \"markers+lines\",\n",
        "    lon = lons,\n",
        "    lat = lats,\n",
        "    marker = {'size': 10}))\n",
        "\n",
        "fig.add_trace(go.Scattermapbox(\n",
        "    mode=\"markers+text\",\n",
        "    lon = capitols['longitude'],\n",
        "    lat = capitols['latitude'],\n",
        "    text = capitols['capitol'] + \", \" + capitols['state'],\n",
        "    marker = {'size': 10}\n",
        "))\n",
        "\n",
        "fig.update_layout(\n",
        "    margin ={'l':0,'t':0,'b':0,'r':0},\n",
        "    mapbox = {\n",
        "        'center': {'lon': 10, 'lat': 10},\n",
        "        'style': \"stamen-terrain\",\n",
        "        'center': {'lon': -20, 'lat': -20},\n",
        "        'zoom': 1})\n",
        "\n",
        "fig.show()"
      ],
      "metadata": {
        "colab": {
          "base_uri": "https://localhost:8080/",
          "height": 542
        },
        "id": "a0KJjIfczEmO",
        "outputId": "56ff3a39-5610-464e-e9ca-5230291f6715"
      },
      "execution_count": 9,
      "outputs": [
        {
          "output_type": "display_data",
          "data": {
            "text/html": [
              "<html>\n",
              "<head><meta charset=\"utf-8\" /></head>\n",
              "<body>\n",
              "    <div>            <script src=\"https://cdnjs.cloudflare.com/ajax/libs/mathjax/2.7.5/MathJax.js?config=TeX-AMS-MML_SVG\"></script><script type=\"text/javascript\">if (window.MathJax) {MathJax.Hub.Config({SVG: {font: \"STIX-Web\"}});}</script>                <script type=\"text/javascript\">window.PlotlyConfig = {MathJaxConfig: 'local'};</script>\n",
              "        <script src=\"https://cdn.plot.ly/plotly-2.8.3.min.js\"></script>                <div id=\"bc17300c-f437-4f65-bba4-291e5cf32176\" class=\"plotly-graph-div\" style=\"height:525px; width:100%;\"></div>            <script type=\"text/javascript\">                                    window.PLOTLYENV=window.PLOTLYENV || {};                                    if (document.getElementById(\"bc17300c-f437-4f65-bba4-291e5cf32176\")) {                    Plotly.newPlot(                        \"bc17300c-f437-4f65-bba4-291e5cf32176\",                        [{\"lat\":[38.576668,39.163914,40.777477,41.140259,40.808075,41.591087,39.798363,39.768623,39.961346,40.264378,42.652843,42.358162,43.206898,44.307167],\"lon\":[-121.493629,-119.766121,-111.888237,-104.820236,-96.699654,-93.603729,-89.654961,-86.162643,-82.999069,-76.883598,-73.757874,-71.063698,-71.537994,-69.781693],\"marker\":{\"size\":10},\"mode\":\"markers+lines\",\"type\":\"scattermapbox\"},{\"lat\":[32.377716,58.301598,33.448143,34.746613,38.576668,39.739227,41.764046,39.157307,21.307442,30.438118,33.749027,43.617775,39.798363,39.768623,41.591087,39.048191,38.186722,30.457069,44.307167,38.978764,42.358162,42.733635,44.955097,32.303848,38.579201,46.585709,40.808075,39.163914,43.206898,40.220596,35.68224,35.78043,46.82085,42.652843,39.961346,35.492207,44.938461,40.264378,41.830914,34.000343,44.367031,36.16581,30.27467,40.777477,44.262436,37.538857,47.035805,38.336246,43.074684,41.140259],\"lon\":[-86.300568,-134.420212,-112.096962,-92.288986,-121.493629,-104.984856,-72.682198,-75.519722,-157.857376,-84.281296,-84.388229,-116.199722,-89.654961,-86.162643,-93.603729,-95.677956,-84.875374,-91.187393,-69.781693,-76.490936,-71.063698,-84.555328,-93.102211,-90.182106,-92.172935,-112.018417,-96.699654,-119.766121,-71.537994,-74.769913,-105.939728,-78.639099,-100.783318,-73.757874,-82.999069,-97.503342,-123.030403,-76.883598,-71.414963,-81.033211,-100.346405,-86.784241,-97.740349,-111.888237,-72.580536,-77.43364,-122.905014,-81.612328,-89.384445,-104.820236],\"marker\":{\"size\":10},\"mode\":\"markers+text\",\"text\":[\"Montgomery, AL\",\"Juneau, AK\",\"Phoenix, AZ\",\"Little Rock, AR\",\"Sacramento, CA\",\"Denver, CO\",\"Hartford, CT\",\"Dover, DE\",\"Honolulu, HI\",\"Tallahassee, FL\",\"Atlanta, GA\",\"Boise, ID\",\"Springfield, IL\",\"Indianapolis, IN\",\"Des Moines, IA\",\"Topeka, KS\",\"Frankfort, KY\",\"Baton Rouge, LA\",\"Augusta, ME\",\"Annapolis, MD\",\"Boston, MA\",\"Lansing, MI\",\"St. Paul, MN\",\"Jackson, MS\",\"Jefferson City, MO\",\"Helena, MT\",\"Lincoln, NE\",\"Carson City, NV\",\"Concord, NH\",\"Trenton, NJ\",\"Santa Fe, NM\",\"Raleigh, NC\",\"Bismarck, ND\",\"Albany, NY\",\"Columbus, OH\",\"Oklahoma City, OK\",\"Salem, OR\",\"Harrisburg, PA\",\"Providence, RI\",\"Columbia, SC\",\"Pierre, SD\",\"Nashville, TN\",\"Austin, TX\",\"Salt Lake City, UT\",\"Montpelier, VT\",\"Richmond, VA\",\"Olympia, WA\",\"Charleston, WV\",\"Madison, WI\",\"Cheyenne, WY\"],\"type\":\"scattermapbox\"}],                        {\"template\":{\"data\":{\"bar\":[{\"error_x\":{\"color\":\"#2a3f5f\"},\"error_y\":{\"color\":\"#2a3f5f\"},\"marker\":{\"line\":{\"color\":\"#E5ECF6\",\"width\":0.5},\"pattern\":{\"fillmode\":\"overlay\",\"size\":10,\"solidity\":0.2}},\"type\":\"bar\"}],\"barpolar\":[{\"marker\":{\"line\":{\"color\":\"#E5ECF6\",\"width\":0.5},\"pattern\":{\"fillmode\":\"overlay\",\"size\":10,\"solidity\":0.2}},\"type\":\"barpolar\"}],\"carpet\":[{\"aaxis\":{\"endlinecolor\":\"#2a3f5f\",\"gridcolor\":\"white\",\"linecolor\":\"white\",\"minorgridcolor\":\"white\",\"startlinecolor\":\"#2a3f5f\"},\"baxis\":{\"endlinecolor\":\"#2a3f5f\",\"gridcolor\":\"white\",\"linecolor\":\"white\",\"minorgridcolor\":\"white\",\"startlinecolor\":\"#2a3f5f\"},\"type\":\"carpet\"}],\"choropleth\":[{\"colorbar\":{\"outlinewidth\":0,\"ticks\":\"\"},\"type\":\"choropleth\"}],\"contour\":[{\"colorbar\":{\"outlinewidth\":0,\"ticks\":\"\"},\"colorscale\":[[0.0,\"#0d0887\"],[0.1111111111111111,\"#46039f\"],[0.2222222222222222,\"#7201a8\"],[0.3333333333333333,\"#9c179e\"],[0.4444444444444444,\"#bd3786\"],[0.5555555555555556,\"#d8576b\"],[0.6666666666666666,\"#ed7953\"],[0.7777777777777778,\"#fb9f3a\"],[0.8888888888888888,\"#fdca26\"],[1.0,\"#f0f921\"]],\"type\":\"contour\"}],\"contourcarpet\":[{\"colorbar\":{\"outlinewidth\":0,\"ticks\":\"\"},\"type\":\"contourcarpet\"}],\"heatmap\":[{\"colorbar\":{\"outlinewidth\":0,\"ticks\":\"\"},\"colorscale\":[[0.0,\"#0d0887\"],[0.1111111111111111,\"#46039f\"],[0.2222222222222222,\"#7201a8\"],[0.3333333333333333,\"#9c179e\"],[0.4444444444444444,\"#bd3786\"],[0.5555555555555556,\"#d8576b\"],[0.6666666666666666,\"#ed7953\"],[0.7777777777777778,\"#fb9f3a\"],[0.8888888888888888,\"#fdca26\"],[1.0,\"#f0f921\"]],\"type\":\"heatmap\"}],\"heatmapgl\":[{\"colorbar\":{\"outlinewidth\":0,\"ticks\":\"\"},\"colorscale\":[[0.0,\"#0d0887\"],[0.1111111111111111,\"#46039f\"],[0.2222222222222222,\"#7201a8\"],[0.3333333333333333,\"#9c179e\"],[0.4444444444444444,\"#bd3786\"],[0.5555555555555556,\"#d8576b\"],[0.6666666666666666,\"#ed7953\"],[0.7777777777777778,\"#fb9f3a\"],[0.8888888888888888,\"#fdca26\"],[1.0,\"#f0f921\"]],\"type\":\"heatmapgl\"}],\"histogram\":[{\"marker\":{\"pattern\":{\"fillmode\":\"overlay\",\"size\":10,\"solidity\":0.2}},\"type\":\"histogram\"}],\"histogram2d\":[{\"colorbar\":{\"outlinewidth\":0,\"ticks\":\"\"},\"colorscale\":[[0.0,\"#0d0887\"],[0.1111111111111111,\"#46039f\"],[0.2222222222222222,\"#7201a8\"],[0.3333333333333333,\"#9c179e\"],[0.4444444444444444,\"#bd3786\"],[0.5555555555555556,\"#d8576b\"],[0.6666666666666666,\"#ed7953\"],[0.7777777777777778,\"#fb9f3a\"],[0.8888888888888888,\"#fdca26\"],[1.0,\"#f0f921\"]],\"type\":\"histogram2d\"}],\"histogram2dcontour\":[{\"colorbar\":{\"outlinewidth\":0,\"ticks\":\"\"},\"colorscale\":[[0.0,\"#0d0887\"],[0.1111111111111111,\"#46039f\"],[0.2222222222222222,\"#7201a8\"],[0.3333333333333333,\"#9c179e\"],[0.4444444444444444,\"#bd3786\"],[0.5555555555555556,\"#d8576b\"],[0.6666666666666666,\"#ed7953\"],[0.7777777777777778,\"#fb9f3a\"],[0.8888888888888888,\"#fdca26\"],[1.0,\"#f0f921\"]],\"type\":\"histogram2dcontour\"}],\"mesh3d\":[{\"colorbar\":{\"outlinewidth\":0,\"ticks\":\"\"},\"type\":\"mesh3d\"}],\"parcoords\":[{\"line\":{\"colorbar\":{\"outlinewidth\":0,\"ticks\":\"\"}},\"type\":\"parcoords\"}],\"pie\":[{\"automargin\":true,\"type\":\"pie\"}],\"scatter\":[{\"marker\":{\"colorbar\":{\"outlinewidth\":0,\"ticks\":\"\"}},\"type\":\"scatter\"}],\"scatter3d\":[{\"line\":{\"colorbar\":{\"outlinewidth\":0,\"ticks\":\"\"}},\"marker\":{\"colorbar\":{\"outlinewidth\":0,\"ticks\":\"\"}},\"type\":\"scatter3d\"}],\"scattercarpet\":[{\"marker\":{\"colorbar\":{\"outlinewidth\":0,\"ticks\":\"\"}},\"type\":\"scattercarpet\"}],\"scattergeo\":[{\"marker\":{\"colorbar\":{\"outlinewidth\":0,\"ticks\":\"\"}},\"type\":\"scattergeo\"}],\"scattergl\":[{\"marker\":{\"colorbar\":{\"outlinewidth\":0,\"ticks\":\"\"}},\"type\":\"scattergl\"}],\"scattermapbox\":[{\"marker\":{\"colorbar\":{\"outlinewidth\":0,\"ticks\":\"\"}},\"type\":\"scattermapbox\"}],\"scatterpolar\":[{\"marker\":{\"colorbar\":{\"outlinewidth\":0,\"ticks\":\"\"}},\"type\":\"scatterpolar\"}],\"scatterpolargl\":[{\"marker\":{\"colorbar\":{\"outlinewidth\":0,\"ticks\":\"\"}},\"type\":\"scatterpolargl\"}],\"scatterternary\":[{\"marker\":{\"colorbar\":{\"outlinewidth\":0,\"ticks\":\"\"}},\"type\":\"scatterternary\"}],\"surface\":[{\"colorbar\":{\"outlinewidth\":0,\"ticks\":\"\"},\"colorscale\":[[0.0,\"#0d0887\"],[0.1111111111111111,\"#46039f\"],[0.2222222222222222,\"#7201a8\"],[0.3333333333333333,\"#9c179e\"],[0.4444444444444444,\"#bd3786\"],[0.5555555555555556,\"#d8576b\"],[0.6666666666666666,\"#ed7953\"],[0.7777777777777778,\"#fb9f3a\"],[0.8888888888888888,\"#fdca26\"],[1.0,\"#f0f921\"]],\"type\":\"surface\"}],\"table\":[{\"cells\":{\"fill\":{\"color\":\"#EBF0F8\"},\"line\":{\"color\":\"white\"}},\"header\":{\"fill\":{\"color\":\"#C8D4E3\"},\"line\":{\"color\":\"white\"}},\"type\":\"table\"}]},\"layout\":{\"annotationdefaults\":{\"arrowcolor\":\"#2a3f5f\",\"arrowhead\":0,\"arrowwidth\":1},\"autotypenumbers\":\"strict\",\"coloraxis\":{\"colorbar\":{\"outlinewidth\":0,\"ticks\":\"\"}},\"colorscale\":{\"diverging\":[[0,\"#8e0152\"],[0.1,\"#c51b7d\"],[0.2,\"#de77ae\"],[0.3,\"#f1b6da\"],[0.4,\"#fde0ef\"],[0.5,\"#f7f7f7\"],[0.6,\"#e6f5d0\"],[0.7,\"#b8e186\"],[0.8,\"#7fbc41\"],[0.9,\"#4d9221\"],[1,\"#276419\"]],\"sequential\":[[0.0,\"#0d0887\"],[0.1111111111111111,\"#46039f\"],[0.2222222222222222,\"#7201a8\"],[0.3333333333333333,\"#9c179e\"],[0.4444444444444444,\"#bd3786\"],[0.5555555555555556,\"#d8576b\"],[0.6666666666666666,\"#ed7953\"],[0.7777777777777778,\"#fb9f3a\"],[0.8888888888888888,\"#fdca26\"],[1.0,\"#f0f921\"]],\"sequentialminus\":[[0.0,\"#0d0887\"],[0.1111111111111111,\"#46039f\"],[0.2222222222222222,\"#7201a8\"],[0.3333333333333333,\"#9c179e\"],[0.4444444444444444,\"#bd3786\"],[0.5555555555555556,\"#d8576b\"],[0.6666666666666666,\"#ed7953\"],[0.7777777777777778,\"#fb9f3a\"],[0.8888888888888888,\"#fdca26\"],[1.0,\"#f0f921\"]]},\"colorway\":[\"#636efa\",\"#EF553B\",\"#00cc96\",\"#ab63fa\",\"#FFA15A\",\"#19d3f3\",\"#FF6692\",\"#B6E880\",\"#FF97FF\",\"#FECB52\"],\"font\":{\"color\":\"#2a3f5f\"},\"geo\":{\"bgcolor\":\"white\",\"lakecolor\":\"white\",\"landcolor\":\"#E5ECF6\",\"showlakes\":true,\"showland\":true,\"subunitcolor\":\"white\"},\"hoverlabel\":{\"align\":\"left\"},\"hovermode\":\"closest\",\"mapbox\":{\"style\":\"light\"},\"paper_bgcolor\":\"white\",\"plot_bgcolor\":\"#E5ECF6\",\"polar\":{\"angularaxis\":{\"gridcolor\":\"white\",\"linecolor\":\"white\",\"ticks\":\"\"},\"bgcolor\":\"#E5ECF6\",\"radialaxis\":{\"gridcolor\":\"white\",\"linecolor\":\"white\",\"ticks\":\"\"}},\"scene\":{\"xaxis\":{\"backgroundcolor\":\"#E5ECF6\",\"gridcolor\":\"white\",\"gridwidth\":2,\"linecolor\":\"white\",\"showbackground\":true,\"ticks\":\"\",\"zerolinecolor\":\"white\"},\"yaxis\":{\"backgroundcolor\":\"#E5ECF6\",\"gridcolor\":\"white\",\"gridwidth\":2,\"linecolor\":\"white\",\"showbackground\":true,\"ticks\":\"\",\"zerolinecolor\":\"white\"},\"zaxis\":{\"backgroundcolor\":\"#E5ECF6\",\"gridcolor\":\"white\",\"gridwidth\":2,\"linecolor\":\"white\",\"showbackground\":true,\"ticks\":\"\",\"zerolinecolor\":\"white\"}},\"shapedefaults\":{\"line\":{\"color\":\"#2a3f5f\"}},\"ternary\":{\"aaxis\":{\"gridcolor\":\"white\",\"linecolor\":\"white\",\"ticks\":\"\"},\"baxis\":{\"gridcolor\":\"white\",\"linecolor\":\"white\",\"ticks\":\"\"},\"bgcolor\":\"#E5ECF6\",\"caxis\":{\"gridcolor\":\"white\",\"linecolor\":\"white\",\"ticks\":\"\"}},\"title\":{\"x\":0.05},\"xaxis\":{\"automargin\":true,\"gridcolor\":\"white\",\"linecolor\":\"white\",\"ticks\":\"\",\"title\":{\"standoff\":15},\"zerolinecolor\":\"white\",\"zerolinewidth\":2},\"yaxis\":{\"automargin\":true,\"gridcolor\":\"white\",\"linecolor\":\"white\",\"ticks\":\"\",\"title\":{\"standoff\":15},\"zerolinecolor\":\"white\",\"zerolinewidth\":2}}},\"margin\":{\"l\":0,\"t\":0,\"b\":0,\"r\":0},\"mapbox\":{\"center\":{\"lon\":-20,\"lat\":-20},\"style\":\"stamen-terrain\",\"zoom\":1}},                        {\"responsive\": true}                    ).then(function(){\n",
              "                            \n",
              "var gd = document.getElementById('bc17300c-f437-4f65-bba4-291e5cf32176');\n",
              "var x = new MutationObserver(function (mutations, observer) {{\n",
              "        var display = window.getComputedStyle(gd).display;\n",
              "        if (!display || display === 'none') {{\n",
              "            console.log([gd, 'removed!']);\n",
              "            Plotly.purge(gd);\n",
              "            observer.disconnect();\n",
              "        }}\n",
              "}});\n",
              "\n",
              "// Listen for the removal of the full notebook cells\n",
              "var notebookContainer = gd.closest('#notebook-container');\n",
              "if (notebookContainer) {{\n",
              "    x.observe(notebookContainer, {childList: true});\n",
              "}}\n",
              "\n",
              "// Listen for the clearing of the current output cell\n",
              "var outputEl = gd.closest('.output');\n",
              "if (outputEl) {{\n",
              "    x.observe(outputEl, {childList: true});\n",
              "}}\n",
              "\n",
              "                        })                };                            </script>        </div>\n",
              "</body>\n",
              "</html>"
            ]
          },
          "metadata": {}
        }
      ]
    }
  ]
}