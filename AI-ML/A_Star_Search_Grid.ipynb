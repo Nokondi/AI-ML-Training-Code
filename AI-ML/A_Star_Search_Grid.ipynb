{
  "nbformat": 4,
  "nbformat_minor": 0,
  "metadata": {
    "colab": {
      "provenance": [],
      "authorship_tag": "ABX9TyPZDi0nN8UJjXjO1sorsgWX",
      "include_colab_link": true
    },
    "kernelspec": {
      "name": "python3",
      "display_name": "Python 3"
    },
    "language_info": {
      "name": "python"
    }
  },
  "cells": [
    {
      "cell_type": "markdown",
      "metadata": {
        "id": "view-in-github",
        "colab_type": "text"
      },
      "source": [
        "<a href=\"https://colab.research.google.com/github/Nokondi/AI-ML-Training-Code/blob/main/AI-ML/A_Star_Search_Grid.ipynb\" target=\"_parent\"><img src=\"https://colab.research.google.com/assets/colab-badge.svg\" alt=\"Open In Colab\"/></a>"
      ]
    },
    {
      "cell_type": "markdown",
      "source": [
        "#A* Search on a Grid\n",
        "##Introduction\n",
        "[In our previous implementation of A* Search](https://colab.research.google.com/drive/1BTe6sY8JS3zm0xxxtTVnQA5R0bKP7ALL?usp=share_link), we built an algorithm that could navigate a map by translating it to a graph and finding an optimal path from the starting node to the goal node using a simple heuristic function.\n",
        "\n",
        "What if, instead of viewing each room in our map as a node in a graph, we wanted to use distance to get a more precise path. We can use Cartesian coordinates to denote the start and goal locations. To simplify things, we can divide our map into a regular two-dimensional grid and confine movement to 8 directions. Each cell on the grid can be located using an ordered pair. We can change the dimensions of the cells to increase or decrease the granularity of the grid. We can use a simple numbering system to mark which spaces on the grid are traversable and which are blocked by an obstacle. We can use the numpy and openCV libraries to process the map image and convert it to a 2-dimensional array that satisfies these criteria.\n",
        "\n",
        "![map.png](data:image/png;base64,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)\n",
        "\n",
        "*Map generated by [Donjon](https://donjon.bin.sh/fantasy/dungeon/)*"
      ],
      "metadata": {
        "id": "obfD4lmpXjhI"
      }
    },
    {
      "cell_type": "markdown",
      "source": [
        "##Imports\n",
        "First, we need to import the necessary libraries (Note: urllib is needed to copy the image file from the web, and we will use the square root function in the math library in two of our cost functions)."
      ],
      "metadata": {
        "id": "UwtXyeWDXk0N"
      }
    },
    {
      "cell_type": "code",
      "source": [
        "import numpy as np\n",
        "import cv2\n",
        "import urllib\n",
        "import math\n",
        "from google.colab.patches import cv2_imshow"
      ],
      "metadata": {
        "id": "3X_RhQDXaU8w"
      },
      "execution_count": 32,
      "outputs": []
    },
    {
      "cell_type": "markdown",
      "source": [
        "##Processing the Image\n",
        "OpenCV is an image processing library that allows us to apply a number of different transformations to an image. Using the following steps, we will convert our map image to a numpy array that can be read by our algorithm.\n",
        "\n",
        "1. Download the image data using urllib\n",
        "2. Use numpy to convert the raw byte data into an array of integer values\n",
        "3. Use the opencv imdecode method to decode the array data and convert it to a grayscale image. The original image data has three dimensions: width, height, and R, G, B values. Converting it to grayscale flattens the image into 2 dimensions: width and height.\n",
        "4. Resize the image from its original size of 400 x 512 pixels to something more manageable. In this case, we will change it to 50 x 64.\n",
        "5. We use the opencv threshold method to ensure a clear separation between black and white pixels. All pixels with a color value higher than the threshold (10) are set to the max pixel value (255), while all pixels less than the threshold are set to 0.\n",
        "\n",
        "When we print our new map, you can see an approximation of our starting image in numeric form. 0 will represent our walls, and 255 will be the spaces our algorithm can search through."
      ],
      "metadata": {
        "id": "ojYINNss4Qdx"
      }
    },
    {
      "cell_type": "code",
      "source": [
        "url = \"https://drive.google.com/uc?export=download&id=14W621LeT1pWo6AiH3wywIqLT7k_IcZQQ\"\n",
        "data = urllib.request.urlopen(url)\n",
        "arr = np.asarray(bytearray(data.read()), dtype=np.uint8)\n",
        "img = cv2.imdecode(arr, cv2.IMREAD_GRAYSCALE)\n",
        "np.set_printoptions(threshold=10000, linewidth=300)\n",
        "map = cv2.resize(img, (50,64))\n",
        "x, map = cv2.threshold(map, 10, 255, cv2.THRESH_BINARY)\n",
        "print(map)"
      ],
      "metadata": {
        "colab": {
          "base_uri": "https://localhost:8080/"
        },
        "id": "KJ2kw0Fmg-Bs",
        "outputId": "23923fdb-34e5-4fb2-c2a5-46d9a8726a2e"
      },
      "execution_count": 41,
      "outputs": [
        {
          "output_type": "stream",
          "name": "stdout",
          "text": [
            "[[  0   0   0   0   0   0   0   0   0   0   0   0   0   0   0   0   0   0   0   0   0   0   0   0   0   0   0   0   0   0   0   0   0   0   0   0   0   0   0   0   0   0   0   0   0   0   0   0   0   0]\n",
            " [  0   0   0   0   0   0   0   0   0   0   0   0   0   0   0   0   0   0   0   0   0   0   0   0   0   0   0   0   0   0   0   0   0   0   0   0   0   0   0   0   0   0   0   0   0   0   0   0   0   0]\n",
            " [  0   0   0   0   0 255 255 255 255 255 255 255 255 255 255 255 255 255 255 255 255 255 255 255 255 255 255 255 255 255 255 255 255 255 255 255 255 255   0 255 255 255 255 255 255   0   0   0   0   0]\n",
            " [  0   0   0   0   0 255 255 255 255 255 255 255 255 255 255 255 255 255 255 255 255 255 255 255 255 255 255 255 255 255 255 255 255 255 255 255 255 255   0 255 255 255 255 255 255   0   0   0   0   0]\n",
            " [  0   0   0   0   0 255 255 255 255 255 255   0   0   0   0   0   0   0   0   0   0   0   0   0   0   0   0   0   0   0   0   0   0   0   0   0 255 255   0 255 255 255 255 255 255   0   0   0   0   0]\n",
            " [  0   0   0   0   0 255 255 255 255 255 255   0 255 255 255 255 255 255 255 255 255 255 255 255 255 255 255 255   0   0   0   0   0   0   0   0 255 255   0 255 255 255 255 255 255 255 255 255   0   0]\n",
            " [  0   0   0   0   0 255 255 255 255 255 255   0 255 255 255 255 255 255 255 255 255 255 255 255 255 255 255 255   0   0   0   0   0   0   0   0 255 255   0 255 255 255 255 255 255 255 255 255   0   0]\n",
            " [  0   0   0   0   0   0   0   0   0 255 255   0 255 255   0 255 255 255 255 255 255 255 255 255 255 255 255 255   0   0   0   0   0   0   0   0 255 255   0   0   0   0   0   0   0   0 255 255   0   0]\n",
            " [  0   0   0   0   0   0   0   0   0 255 255   0 255 255   0 255 255 255 255 255 255 255 255 255 255 255 255 255   0   0   0   0   0   0   0   0 255 255   0   0   0   0   0   0   0   0 255 255   0   0]\n",
            " [  0   0   0   0   0   0   0   0   0 255 255   0 255 255   0 255 255 255 255 255 255 255 255 255 255 255 255 255   0 255 255 255 255 255 255   0 255 255   0   0   0   0   0   0   0   0 255 255   0   0]\n",
            " [  0   0   0   0   0   0   0   0   0 255 255   0 255 255   0 255 255 255 255 255 255 255 255 255 255 255 255 255   0 255 255 255 255 255 255   0 255 255   0   0   0   0   0   0   0   0 255 255   0   0]\n",
            " [  0   0   0   0   0   0   0   0   0 255 255   0 255 255   0   0   0   0   0   0   0   0   0   0   0   0   0   0   0 255 255 255 255 255 255   0 255 255   0   0   0   0   0   0   0   0 255 255   0   0]\n",
            " [  0   0 255 255 255 255 255 255 255 255 255   0 255 255 255 255 255 255 255 255 255 255 255 255 255 255 255 255 255 255 255 255 255 255 255   0 255 255   0   0   0   0   0   0   0   0 255 255   0   0]\n",
            " [  0   0 255 255 255 255 255 255 255 255 255   0 255 255 255 255 255 255 255 255 255 255 255 255 255 255 255 255 255 255 255 255 255 255 255   0 255 255   0   0   0   0   0   0   0   0 255 255   0   0]\n",
            " [  0   0 255 255 255 255 255 255 255 255 255   0   0   0   0   0   0   0   0   0   0   0 255 255   0   0   0   0   0   0   0   0   0   0   0   0 255 255   0   0   0   0   0   0   0   0 255 255   0   0]\n",
            " [  0   0 255 255 255 255 255 255 255 255 255   0   0   0   0   0   0   0   0   0   0   0 255 255   0   0   0   0   0   0   0   0   0   0   0   0 255 255 255 255 255 255 255 255 255 255 255 255   0   0]\n",
            " [  0   0 255 255 255 255 255 255 255 255 255   0   0   0   0   0   0   0   0   0   0   0 255 255   0   0   0   0   0   0   0   0   0   0   0   0 255 255 255 255 255 255 255 255 255 255 255 255   0   0]\n",
            " [  0   0   0   0   0   0   0   0   0 255 255   0   0   0   0   0   0   0   0   0   0   0 255 255   0   0   0   0   0   0   0   0   0   0   0   0   0   0   0   0   0   0   0   0   0   0 255 255   0   0]\n",
            " [  0   0   0   0   0   0   0   0   0 255 255   0   0   0   0   0   0   0   0   0   0   0 255 255   0   0   0   0   0   0   0   0   0   0   0   0   0   0   0   0   0   0   0   0   0   0 255 255   0   0]\n",
            " [  0   0 255 255 255 255 255 255 255 255 255 255 255 255 255 255 255   0   0 255 255 255 255 255 255 255 255 255 255 255 255   0   0 255 255 255 255 255 255 255 255 255 255 255 255   0 255 255   0   0]\n",
            " [  0   0 255 255 255 255 255 255 255 255 255 255 255 255 255 255 255   0   0 255 255 255 255 255 255 255 255 255 255 255 255   0   0 255 255 255 255 255 255 255 255 255 255 255 255   0 255 255   0   0]\n",
            " [  0   0 255 255   0 255 255 255 255 255 255 255 255 255 255 255 255   0   0 255 255 255 255 255 255 255 255 255 255 255 255   0   0 255 255 255 255 255 255 255 255 255 255 255 255   0 255 255   0   0]\n",
            " [  0   0 255 255   0 255 255 255 255 255 255 255 255 255 255 255 255   0   0 255 255 255 255 255 255 255 255 255 255 255 255   0   0 255 255 255 255 255 255 255 255 255 255 255 255   0 255 255   0   0]\n",
            " [  0   0 255 255   0 255 255 255 255 255 255 255 255 255 255 255 255   0   0 255 255 255 255 255 255 255 255 255 255 255 255   0   0 255 255 255 255 255 255 255 255 255 255 255 255   0 255 255   0   0]\n",
            " [  0   0 255 255   0 255 255 255 255 255 255 255 255 255 255 255 255   0   0 255 255 255 255 255 255 255 255 255 255 255 255   0   0 255 255 255 255 255 255 255 255 255 255 255 255   0 255 255   0   0]\n",
            " [  0   0 255 255   0 255 255 255 255 255 255 255 255 255 255 255 255   0   0 255 255 255 255 255 255 255 255 255 255 255 255   0   0 255 255 255 255 255 255 255 255 255 255 255 255   0 255 255   0   0]\n",
            " [  0   0 255 255 255 255 255 255 255 255 255 255 255 255 255 255 255 255 255 255 255 255 255 255 255 255 255 255 255 255 255   0   0 255 255 255 255 255 255 255 255 255 255 255 255   0 255 255   0   0]\n",
            " [  0   0 255 255 255 255 255 255 255 255 255 255 255 255 255 255 255 255 255 255 255 255 255 255 255 255 255 255 255 255 255   0   0 255 255 255 255 255 255 255 255 255 255 255 255   0 255 255   0   0]\n",
            " [  0   0   0   0   0 255 255 255 255 255 255 255 255 255 255 255 255   0   0 255 255 255 255 255 255 255 255 255 255 255 255   0   0 255 255 255 255 255 255 255 255 255 255 255 255   0 255 255   0   0]\n",
            " [  0   0 255 255 255 255 255 255 255 255 255 255 255 255 255 255 255   0   0 255 255 255 255 255 255 255 255 255 255 255 255 255 255 255 255 255 255 255 255 255 255 255 255 255 255   0 255 255   0   0]\n",
            " [  0   0 255 255 255 255 255 255 255 255 255 255 255 255 255 255 255   0   0 255 255 255 255 255 255 255 255 255 255 255 255 255 255 255 255 255 255 255 255 255 255 255 255 255 255   0 255 255   0   0]\n",
            " [  0   0 255 255   0   0   0   0   0   0   0   0 255 255   0   0   0   0   0   0   0   0 255 255   0   0   0   0   0   0   0   0   0   0   0   0   0   0   0   0   0   0   0 255 255   0 255 255   0   0]\n",
            " [  0   0 255 255   0   0   0   0   0   0   0   0 255 255   0   0   0   0   0   0   0   0 255 255   0   0   0   0   0   0   0   0   0   0   0   0   0   0   0   0   0   0   0 255 255   0 255 255   0   0]\n",
            " [  0   0 255 255   0   0   0   0   0   0   0   0 255 255 255 255 255   0   0 255 255 255 255 255 255 255 255 255 255 255 255   0   0 255 255 255 255 255 255 255 255 255 255 255 255   0 255 255   0   0]\n",
            " [  0   0 255 255   0   0   0   0   0   0   0   0 255 255 255 255 255   0   0 255 255 255 255 255 255 255 255 255 255 255 255   0   0 255 255 255 255 255 255 255 255 255 255 255 255   0 255 255   0   0]\n",
            " [  0   0 255 255   0   0   0   0   0   0   0   0 255 255 255 255 255   0   0 255 255 255 255 255 255 255 255 255 255 255 255   0   0 255 255 255 255 255   0   0   0   0   0   0   0   0 255 255   0   0]\n",
            " [  0   0 255 255 255 255 255 255 255 255 255   0 255 255 255 255 255 255 255 255 255 255 255 255 255 255 255 255 255 255 255 255 255 255 255 255 255 255 255 255 255 255 255 255 255 255 255 255   0   0]\n",
            " [  0   0 255 255 255 255 255 255 255 255 255   0 255 255 255 255 255 255 255 255 255 255 255 255 255 255 255 255 255 255 255 255 255 255 255 255 255 255 255 255 255 255 255 255 255 255 255 255   0   0]\n",
            " [  0   0   0   0   0   0   0   0   0 255 255   0   0   0   0   0   0   0   0 255 255 255 255 255 255 255 255 255 255 255 255   0   0   0   0   0   0   0   0   0   0   0   0   0   0   0   0   0   0   0]\n",
            " [  0   0   0   0   0   0   0   0   0 255 255   0   0   0   0   0   0   0   0 255 255 255 255 255 255 255 255 255 255 255 255   0   0   0   0   0   0   0   0   0   0   0   0   0   0   0   0   0   0   0]\n",
            " [  0   0 255 255 255 255 255 255 255 255 255 255 255 255 255 255 255 255 255 255 255 255 255 255 255 255 255 255 255 255 255   0   0 255 255 255 255 255   0   0   0   0   0 255 255 255 255 255   0   0]\n",
            " [  0   0 255 255 255 255 255 255 255 255 255 255 255 255 255 255 255 255 255 255 255 255 255 255 255 255 255 255 255 255 255   0   0 255 255 255 255 255   0   0   0   0   0 255 255 255 255 255   0   0]\n",
            " [  0   0 255 255 255 255 255 255 255 255 255 255 255 255   0   0   0   0   0 255 255 255 255 255 255 255 255 255 255 255 255   0   0 255 255 255 255 255   0   0   0   0   0 255 255 255 255 255   0   0]\n",
            " [  0   0 255 255 255 255 255 255 255 255 255 255 255 255   0   0   0   0   0 255 255 255 255 255 255 255 255 255 255 255 255   0   0 255 255 255 255 255 255 255 255 255 255 255 255 255 255 255   0   0]\n",
            " [  0   0 255 255 255 255 255 255 255 255 255 255 255 255   0   0   0   0   0 255 255 255 255 255 255 255 255 255 255 255 255   0   0 255 255 255 255 255 255 255 255 255 255 255 255 255 255 255   0   0]\n",
            " [  0   0   0   0   0 255 255   0   0   0   0   0   0   0   0   0   0   0   0   0   0   0   0   0   0   0   0   0   0 255 255   0   0   0   0   0 255 255   0   0   0   0   0 255 255   0   0   0   0   0]\n",
            " [  0   0   0   0   0 255 255   0   0   0   0   0   0   0   0   0   0   0   0   0   0   0   0   0   0   0   0   0   0 255 255   0   0   0   0   0 255 255   0   0   0   0   0 255 255   0   0   0   0   0]\n",
            " [  0   0 255 255 255 255 255 255 255 255 255 255 255 255 255 255 255 255 255 255 255 255 255 255 255 255 255 255 255 255 255   0   0 255 255 255 255 255 255 255 255 255 255 255 255   0   0   0   0   0]\n",
            " [  0   0 255 255 255 255 255 255 255 255 255 255 255 255 255 255 255 255 255 255 255 255 255 255 255 255 255 255 255 255 255   0   0 255 255 255 255 255 255 255 255 255 255 255 255   0   0   0   0   0]\n",
            " [  0   0 255 255   0 255 255 255 255 255 255 255 255 255 255 255 255   0   0 255 255 255 255 255 255 255 255 255 255 255 255   0   0 255 255 255 255 255 255 255 255 255 255 255 255   0   0   0   0   0]\n",
            " [  0   0 255 255   0 255 255 255 255 255 255 255 255 255 255 255 255   0   0 255 255 255 255 255 255 255 255 255 255 255 255   0   0 255 255 255 255 255 255 255 255 255 255 255 255   0   0   0   0   0]\n",
            " [  0   0 255 255   0 255 255 255 255 255 255 255 255 255 255 255 255   0   0 255 255 255 255 255 255 255 255 255 255 255 255   0   0 255 255 255 255 255 255 255 255 255 255 255 255   0   0   0   0   0]\n",
            " [  0   0 255 255   0 255 255 255 255 255 255 255 255 255 255 255 255   0   0 255 255 255 255 255 255 255 255 255 255 255 255   0   0 255 255 255 255 255 255 255 255 255 255 255 255   0   0   0   0   0]\n",
            " [  0   0 255 255   0 255 255 255 255 255 255 255 255 255 255 255 255   0   0 255 255 255 255 255 255 255 255 255 255 255 255   0   0 255 255 255 255 255 255 255 255 255 255 255 255   0   0   0   0   0]\n",
            " [  0   0 255 255   0 255 255 255 255 255 255 255 255 255 255 255 255   0   0 255 255 255 255 255 255 255 255 255 255 255 255   0   0 255 255 255 255 255 255 255 255 255 255 255 255   0   0   0   0   0]\n",
            " [  0   0 255 255   0 255 255 255 255 255 255 255 255 255 255 255 255   0   0 255 255 255 255 255 255 255 255 255 255 255 255   0   0 255 255 255 255 255 255 255 255 255 255 255 255   0   0   0   0   0]\n",
            " [  0   0 255 255   0 255 255 255 255 255 255 255 255 255 255 255 255   0   0 255 255 255 255 255 255 255 255 255 255 255 255   0   0 255 255 255 255 255 255 255 255 255 255 255 255   0   0   0   0   0]\n",
            " [  0   0 255 255   0 255 255 255 255 255 255 255 255 255 255 255 255   0   0 255 255 255 255 255 255 255 255 255 255 255 255   0   0 255 255 255 255 255 255 255 255 255 255 255 255 255 255 255   0   0]\n",
            " [  0   0 255 255   0 255 255 255 255 255 255 255 255 255 255 255 255   0   0 255 255 255 255 255 255 255 255 255 255 255 255   0   0 255 255 255 255 255 255 255 255 255 255 255 255 255 255 255   0   0]\n",
            " [  0   0 255 255   0   0   0   0   0   0   0   0   0   0   0   0   0   0   0 255 255   0 255 255   0   0   0   0   0   0   0   0   0   0   0   0   0   0   0   0   0   0   0   0   0   0 255 255   0   0]\n",
            " [  0   0 255 255 255 255 255 255 255 255 255 255 255 255 255 255 255 255 255 255 255 255 255 255 255 255 255 255 255 255 255 255 255 255 255 255 255 255 255 255 255 255 255 255 255 255 255 255   0   0]\n",
            " [  0   0 255 255 255 255 255 255 255 255 255 255 255 255 255 255 255 255 255 255 255 255 255 255 255 255 255 255 255 255 255 255 255 255 255 255 255 255 255 255 255 255 255 255 255 255 255 255   0   0]\n",
            " [  0   0   0   0   0   0   0   0   0   0   0   0   0   0   0   0   0   0   0   0   0   0   0   0   0   0   0   0   0   0   0   0   0   0   0   0   0   0   0   0   0   0   0   0   0   0   0   0   0   0]\n",
            " [  0   0   0   0   0   0   0   0   0   0   0   0   0   0   0   0   0   0   0   0   0   0   0   0   0   0   0   0   0   0   0   0   0   0   0   0   0   0   0   0   0   0   0   0   0   0   0   0   0   0]]\n"
          ]
        }
      ]
    },
    {
      "cell_type": "markdown",
      "source": [
        "##Cost Functions\n",
        "As we saw in the previous A* implementation, we need a heuristic to calculate the cost to move from one square to another. The cost function is:\n",
        "\n",
        "$f(n) = g(n) + h(n)$\n",
        "\n",
        "There are multiple ways for us to calculate distance in our cost function. The main goal is that we want a distance calculation that is accurate and will not exceed the actual distance to travel from one square to another on the grid. There are three formulas we can use: Euclidean, Manhattan, and Octile distance.\n",
        "\n",
        "###Euclidean distance\n",
        "The Euclidean distance formula should be familiar to anyone who has taken geometry: \n",
        "\n",
        "$A^2 + B^2 = C^2$. \n",
        "\n",
        "On a coordinate grid, we can rewrite this as \n",
        "\n",
        "$(x1 - x2)^2 + (y1 - y2)^2 = distance^2$ \n",
        "\n",
        "This gives us the direct line distance from one square to another on our grid.\n",
        "\n",
        "###Manhattan distance\n",
        "Manhattan distance assumes only horizontal and vertical movement and can be calculated with the following formula: \n",
        "\n",
        "$|x1 - x2| + |y1 - y2| = distance$\n",
        "\n",
        "This formula will provide a more accurate distance measurement if our agent can only move in four directions.\n",
        "\n",
        "###Octile distance\n",
        "Octile distance is a variation of Manhattan distance that allows for eight directions of movement instead of four. For our simple grid, this can be calculated as follows:\n",
        "$|x1 - x2| + |y1 - y2| + (√(2) - 2) * minimum |x1 - x2| or |y1 - y2|$\n",
        "\n",
        "\n",
        "Below you can find functions for calculating each of these distance types. Because we are using a grid that allows for vertical, horizontal, and diagonal movement, Octile distance will be our best option in this scenario. "
      ],
      "metadata": {
        "id": "bGDhaSECjGyL"
      }
    },
    {
      "cell_type": "code",
      "source": [
        "def EucDist(pos1, pos2):\n",
        "    return math.sqrt((pos1[0] - pos2[0])**2 + (pos1[1] - pos2[1])**2)\n",
        "\n",
        "def ManDist(pos1, pos2):\n",
        "    return abs(pos1[0] - pos2[0]) + abs(pos1[1] - pos2[1])\n",
        "\n",
        "def OctDist(pos1, pos2):\n",
        "    dx = abs(pos1[0] - pos2[0])\n",
        "    dy = abs(pos1[1] - pos2[1])\n",
        "    return (dx + dy) + (math.sqrt(2) - 2) * min(dx, dy)"
      ],
      "metadata": {
        "id": "OH0lh4WNtB2v"
      },
      "execution_count": 36,
      "outputs": []
    },
    {
      "cell_type": "markdown",
      "source": [
        "##A* Algorithm\n",
        "In the simpler version of this algorithm, we calculated $h(n)$ for every node in the graph before searching for our path. While this was fine for a graph with a few nodes, it becomes more computationally expensive with more nodes. We will avoid this in the new algorithm by only calculating $h(n)$ for nodes our agent has seen. Also, the distance between nodes will be slightly different for nodes that are horizontally and vertically adjacent vs. nodes that are diagonally adjacent: horizontal and vertically connected nodes have a $g(n)$ value of 1, while diagonally connected nodes have a $g(n)$ of $√2$."
      ],
      "metadata": {
        "id": "AWjRHZU2W9uS"
      }
    },
    {
      "cell_type": "code",
      "execution_count": 42,
      "metadata": {
        "colab": {
          "base_uri": "https://localhost:8080/",
          "height": 694
        },
        "id": "rjAc3AI0K5GW",
        "outputId": "41528d8e-83f8-4d07-b233-e4533a05ecc2"
      },
      "outputs": [
        {
          "output_type": "stream",
          "name": "stdout",
          "text": [
            "[[10, 25], [11, 26], [11, 27], [12, 28], [13, 29], [13, 30], [13, 31], [13, 32], [14, 33], [15, 34], [16, 35], [17, 36], [18, 36], [19, 36], [20, 36], [21, 37], [22, 38], [23, 39], [24, 40], [25, 41], [26, 42], [27, 43], [28, 44], [29, 45], [29, 46], [29, 47], [29, 48], [29, 49], [29, 50], [29, 51], [29, 52], [29, 53], [28, 54], [27, 55], [26, 56], [25, 57], [24, 58], [23, 59], [24, 60], [25, 60], [26, 60], [27, 60], [28, 60], [29, 60], [30, 60], [31, 60], [32, 60], [33, 60], [34, 60], [35, 60], [36, 60], [37, 60], [38, 60], [39, 60], [40, 60], [41, 60], [42, 60], [43, 60], [44, 60], [45, 60], [46, 59], [45, 58], [45, 57], [44, 56], [44, 55], [44, 54], [44, 53], [44, 52], [44, 51], [44, 50], [44, 49], [44, 48], [44, 47], [44, 46], [44, 45], [44, 44], [44, 43], [45, 42]]\n"
          ]
        },
        {
          "output_type": "display_data",
          "data": {
            "text/plain": [
              "<PIL.Image.Image image mode=L size=500x640 at 0x7F6F86049940>"
            ],
            "image/png": "[encoded data removed]"
          },
          "metadata": {}
        }
      ],
      "source": [
        "start = [10, 25]\n",
        "goal = [45, 42]\n",
        "\n",
        "def AStarSearchGrid(map, start, goal):\n",
        "    seen = [start]\n",
        "    g_list = {str(start): 0}\n",
        "    parent = {str(start): None}\n",
        "\n",
        "    while seen:\n",
        "        # Step 3: retrieve node with lowest f(n) from seen\n",
        "        current = []\n",
        "        current_f = float('inf')\n",
        "        for node in seen:\n",
        "            if g_list[str(node)] + OctDist(node, goal) < current_f:\n",
        "                current = node\n",
        "                current_f = g_list[str(node)] + OctDist(node, goal)\n",
        "        seen.remove(current)\n",
        "\n",
        "        # Step 4: if current node is goal, exit loop\n",
        "        if current == goal:\n",
        "            path = [goal]\n",
        "            map[goal[1]][goal[0]] = 99\n",
        "            node = str(goal)\n",
        "            while node != str(start):\n",
        "                path.append(parent[node])\n",
        "                map[parent[node][1]][parent[node][0]] = 99\n",
        "                node = str(parent[node])\n",
        "            path.reverse()\n",
        "\n",
        "            return path\n",
        "\n",
        "        for y in range(-1, 2, 1):\n",
        "            for x in range(-1, 2, 1):\n",
        "                xp = current[0]+x\n",
        "                yp = current[1]+y\n",
        "                if (yp < map.shape[0] and yp > 0) and (xp < map.shape[1] and xp > 0) and map[yp][xp] != 0:\n",
        "                    neighbor_g = 0\n",
        "                    if x == 0 or y == 0:\n",
        "                        neighbor_g = g_list[str(current)] + 1\n",
        "                    else:\n",
        "                        neighbor_g = g_list[str(current)] + math.sqrt(2)\n",
        "                    if str([xp, yp]) not in g_list.keys() or g_list[str([xp, yp])] > neighbor_g:\n",
        "                        g_list[str([xp, yp])] = neighbor_g\n",
        "                        parent[str([xp, yp])] = current\n",
        "                        if [xp, yp] not in seen:\n",
        "                            seen.append([xp, yp])\n",
        "\n",
        "\n",
        "    return None\n",
        "\n",
        "path = AStarSearchGrid(map, start, goal)\n",
        "print(path)\n",
        "map = cv2.resize(map, (500,640), interpolation=0)\n",
        "cv2_imshow(map)"
      ]
    },
    {
      "cell_type": "code",
      "source": [],
      "metadata": {
        "id": "bAqz0RN6Rmjr"
      },
      "execution_count": null,
      "outputs": []
    }
  ]
}